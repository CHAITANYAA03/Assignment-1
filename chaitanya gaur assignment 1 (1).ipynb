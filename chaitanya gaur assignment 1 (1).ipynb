{
  "cells": [
    {
      "cell_type": "code",
      "source": [
        "# Import necessary libraries\n",
        "import pandas as pd\n",
        "import numpy as np\n",
        "from sklearn.model_selection import train_test_split, cross_val_score\n",
        "from sklearn.preprocessing import StandardScaler\n",
        "from sklearn.ensemble import RandomForestClassifier\n",
        "from sklearn.metrics import accuracy_score, precision_score, recall_score, f1_score, confusion_matrix\n",
        "from imblearn.over_sampling import RandomOverSampler\n",
        "import joblib\n",
        "\n",
        "# Step 1: Load Dataset\n",
        "data = pd.read_csv('/content/ocean_water_quality.csv')\n",
        "print(\"First 5 rows of the dataset:\")\n",
        "print(data.head())\n",
        "\n",
        "# Step 2: Preprocess the Data\n",
        "# Separate features and target variable\n",
        "X = data.drop(columns=['water_quality'])  # Assuming 'water_quality' is the target column\n",
        "y = data['water_quality']\n",
        "\n",
        "# Handle class imbalance using RandomOverSampler\n",
        "ros = RandomOverSampler(random_state=42)\n",
        "X_res, y_res = ros.fit_resample(X, y)\n",
        "\n",
        "# Split data into train and test sets\n",
        "X_train, X_test, y_train, y_test = train_test_split(X_res, y_res, test_size=0.2, random_state=42)\n",
        "\n",
        "# Scale the features\n",
        "scaler = StandardScaler()\n",
        "X_train = scaler.fit_transform(X_train)\n",
        "X_test = scaler.transform(X_test)\n",
        "\n",
        "# Save the scaler for future use in the Flask API\n",
        "joblib.dump(scaler, 'scaler.joblib')\n",
        "\n",
        "# Step 3: Train the Model\n",
        "rf_model = RandomForestClassifier(random_state=42)\n",
        "rf_model.fit(X_train, y_train)\n",
        "\n",
        "# Cross-validation to check model reliability\n",
        "cv_scores = cross_val_score(rf_model, X_train, y_train, cv=5, scoring='accuracy')\n",
        "print(f\"Cross-Validation Accuracy Scores: {cv_scores}\")\n",
        "print(f\"Mean Cross-Validation Accuracy: {cv_scores.mean()}\")\n",
        "\n",
        "# Save the trained model for Flask deployment\n",
        "joblib.dump(rf_model, 'water_quality_model.joblib')\n",
        "\n",
        "# Step 4: Model Evaluation\n",
        "# Make predictions on the test set\n",
        "predictions = rf_model.predict(X_test)\n",
        "\n",
        "# Calculate evaluation metrics\n",
        "accuracy = accuracy_score(y_test, predictions)\n",
        "precision = precision_score(y_test, predictions)\n",
        "recall = recall_score(y_test, predictions)\n",
        "f1 = f1_score(y_test, predictions)\n",
        "conf_matrix = confusion_matrix(y_test, predictions)\n",
        "\n",
        "print(\"Model Evaluation Metrics:\")\n",
        "print(f\"Accuracy: {accuracy}\")\n",
        "print(f\"Precision: {precision}\")\n",
        "print(f\"Recall: {recall}\")\n",
        "print(f\"F1 Score: {f1}\")\n",
        "print(f\"Confusion Matrix:\\n{conf_matrix}\")\n"
      ],
      "metadata": {
        "id": "_ma0jgeXP6O3",
        "outputId": "0615f7c9-33a9-4999-c378-945e058acecb",
        "colab": {
          "base_uri": "https://localhost:8080/"
        }
      },
      "execution_count": 1,
      "outputs": [
        {
          "output_type": "stream",
          "name": "stdout",
          "text": [
            "First 5 rows of the dataset:\n",
            "   temperature   ph  nitrate  dissolved_oxygen  salinity  water_quality\n",
            "0         20.5  7.2     0.30               8.0      34.5              1\n",
            "1         21.3  7.4     0.25               7.8      35.1              1\n",
            "2         19.8  6.8     0.50               7.2      33.9              0\n",
            "3         22.0  7.5     0.20               8.1      35.3              1\n",
            "4         18.7  6.9     0.55               7.0      33.6              0\n"
          ]
        },
        {
          "output_type": "stream",
          "name": "stderr",
          "text": [
            "/usr/local/lib/python3.10/dist-packages/sklearn/model_selection/_split.py:776: UserWarning: The least populated class in y has only 4 members, which is less than n_splits=5.\n",
            "  warnings.warn(\n"
          ]
        },
        {
          "output_type": "stream",
          "name": "stdout",
          "text": [
            "Cross-Validation Accuracy Scores: [1. 1. 1. 1. 1.]\n",
            "Mean Cross-Validation Accuracy: 1.0\n",
            "Model Evaluation Metrics:\n",
            "Accuracy: 1.0\n",
            "Precision: 1.0\n",
            "Recall: 1.0\n",
            "F1 Score: 1.0\n",
            "Confusion Matrix:\n",
            "[[1 0]\n",
            " [0 2]]\n"
          ]
        }
      ]
    },
    {
      "cell_type": "code",
      "source": [
        "from google.colab import drive\n",
        "drive.mount('/content/drive')\n"
      ],
      "metadata": {
        "id": "sUDtbxoMTPkR",
        "outputId": "44f53c94-d2d7-4606-a780-013d3887694f",
        "colab": {
          "base_uri": "https://localhost:8080/"
        }
      },
      "execution_count": 7,
      "outputs": [
        {
          "output_type": "stream",
          "name": "stdout",
          "text": [
            "Drive already mounted at /content/drive; to attempt to forcibly remount, call drive.mount(\"/content/drive\", force_remount=True).\n"
          ]
        }
      ]
    },
    {
      "cell_type": "code",
      "source": [
        "# Define the file path in Google Drive\n",
        "save_path = '/content/drive/My Drive/best_model.sav'\n"
      ],
      "metadata": {
        "id": "_sOjqUc-Tlce"
      },
      "execution_count": 8,
      "outputs": []
    },
    {
      "cell_type": "code",
      "source": [
        "import joblib\n",
        "\n",
        "# Save the Random Forest model to Google Drive as a .sav file\n",
        "joblib.dump(rf_model, save_path)\n",
        "print(f\"Model saved to {save_path}\")\n"
      ],
      "metadata": {
        "id": "sxKV7ncCT4wb",
        "outputId": "2f2b8588-27c0-4083-f582-9ffec078b788",
        "colab": {
          "base_uri": "https://localhost:8080/"
        }
      },
      "execution_count": 9,
      "outputs": [
        {
          "output_type": "stream",
          "name": "stdout",
          "text": [
            "Model saved to /content/drive/My Drive/best_model.sav\n"
          ]
        }
      ]
    }
  ],
  "metadata": {
    "colab": {
      "name": "Welcome To Colab",
      "provenance": []
    },
    "kernelspec": {
      "display_name": "Python 3",
      "name": "python3"
    }
  },
  "nbformat": 4,
  "nbformat_minor": 0
}